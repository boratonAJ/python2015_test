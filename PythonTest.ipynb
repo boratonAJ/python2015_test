{
 "metadata": {
  "name": "",
  "signature": "sha256:74c9f4e9d3990a4814cb0608c7dac6d6f1c991428b5b7529fa3539d912f54294"
 },
 "nbformat": 3,
 "nbformat_minor": 0,
 "worksheets": [
  {
   "cells": [
    {
     "cell_type": "code",
     "collapsed": false,
     "input": [
      "import sys\n",
      "import os\n",
      "import os.path\n",
      "sys.path.append(os.path.join(os.getcwd(), 'lib'))\n",
      "from test import python_test"
     ],
     "language": "python",
     "metadata": {},
     "outputs": [],
     "prompt_number": 3
    },
    {
     "cell_type": "markdown",
     "metadata": {},
     "source": [
      "Please register by putting your name and email address in the `register` line below:"
     ]
    },
    {
     "cell_type": "code",
     "collapsed": false,
     "input": [
      "python_test.register('Your name', 'email@somewhere.ac.za')"
     ],
     "language": "python",
     "metadata": {},
     "outputs": [
      {
       "metadata": {},
       "output_type": "pyout",
       "prompt_number": 4,
       "text": [
        "'Thank you Your name'"
       ]
      }
     ],
     "prompt_number": 4
    },
    {
     "cell_type": "markdown",
     "metadata": {},
     "source": [
      "**(1)** Write a function `multiply(x, y)` that returns the results of multiplying `x` and `y`. I.e. \n",
      "\n",
      "        result = multiply(5, 10)\n",
      "        print result\n",
      " \n",
      " would print `50`.\n",
      " \n",
      " **Marks:** 1"
     ]
    },
    {
     "cell_type": "code",
     "collapsed": false,
     "input": [
      "def multiply(x, y):\n",
      "    return x*y"
     ],
     "language": "python",
     "metadata": {},
     "outputs": [],
     "prompt_number": 5
    },
    {
     "cell_type": "code",
     "collapsed": false,
     "input": [
      "def multiply(x, y):\n",
      "    total = 1\n",
      "    for number in x, y:\n",
      "        total *= number\n",
      "    return total"
     ],
     "language": "python",
     "metadata": {},
     "outputs": [],
     "prompt_number": 7
    },
    {
     "cell_type": "code",
     "collapsed": false,
     "input": [
      "# variables with commas between them give you as tuple\n",
      "# how surprising!\n",
      "var1, var2 = 1, 2\n",
      "print var1\n",
      "print var2\n",
      "var1 = 1,2\n",
      "print var1, type(var1)"
     ],
     "language": "python",
     "metadata": {},
     "outputs": [
      {
       "output_type": "stream",
       "stream": "stdout",
       "text": [
        "1\n",
        "2\n",
        "(1, 2) <type 'tuple'>\n"
       ]
      }
     ],
     "prompt_number": 17
    },
    {
     "cell_type": "code",
     "collapsed": false,
     "input": [
      "python_test.run_test(1, multiply)"
     ],
     "language": "python",
     "metadata": {},
     "outputs": [
      {
       "output_type": "stream",
       "stream": "stdout",
       "text": [
        "Correct\n"
       ]
      }
     ],
     "prompt_number": 8
    },
    {
     "cell_type": "markdown",
     "metadata": {},
     "source": [
      "**(2)** To calculate the product of a list of numbers you multiply them together, so e.g. the product of 1, 2, 3, and 4 is 1 \u00d7 2 \u00d7 3 \u00d7 4, i.e. 24. Write a python function `product_of(thelist)` that returns the product of all the numbers in `thelist`. E.g.\n",
      "\n",
      "        mylist = [1,2,3,4]\n",
      "        result = product_of(mylist)\n",
      "        print result\n",
      "        \n",
      "would print `24`.\n",
      "\n",
      "**Marks:** 3"
     ]
    },
    {
     "cell_type": "code",
     "collapsed": false,
     "input": [
      "def product_of(thelist):\n",
      "    total = 1\n",
      "    for number in thelist:\n",
      "        total *= number\n",
      "    return total"
     ],
     "language": "python",
     "metadata": {},
     "outputs": [],
     "prompt_number": 18
    },
    {
     "cell_type": "code",
     "collapsed": false,
     "input": [
      "python_test.run_test(2, product_of)"
     ],
     "language": "python",
     "metadata": {},
     "outputs": [
      {
       "output_type": "stream",
       "stream": "stdout",
       "text": [
        "Correct\n"
       ]
      }
     ],
     "prompt_number": 19
    },
    {
     "cell_type": "markdown",
     "metadata": {},
     "source": [
      "**(3)** The molecular weight (in g/mol) of a strand of (synthesised) single-stranded DNA can be computed by adding together the weights of the individual bases and then subtracting 61.96. The individual bases have these weights:\n",
      "\n",
      "        Adenine  313.2\n",
      "        Thymine  304.2\n",
      "        Cytosine 289.2\n",
      "        Guanine  329.2\n",
      "\n",
      "So for example the molecular weight of the string `GATACCA` is 2089.44. Write a function `mol_weight(dna_str)` that computes the molecular weight of strand of DNA. E.g. \n",
      "\n",
      "        weight = mol_weight('GATACCA')\n",
      "        print weight\n",
      "\n",
      "would print 2089.44.\n",
      "\n",
      "**Marks:** 5"
     ]
    },
    {
     "cell_type": "code",
     "collapsed": false,
     "input": [
      "def mol_weight(dna_str):\n",
      "    weight = -61.96\n",
      "    weight_dict = dict(A=313.2, T=304.2, C=289.2, G=329.2)\n",
      "    for char in dna_str.upper():\n",
      "        weight += weight_dict.get(char, 0)\n",
      "    return weight"
     ],
     "language": "python",
     "metadata": {},
     "outputs": [],
     "prompt_number": 22
    },
    {
     "cell_type": "code",
     "collapsed": false,
     "input": [
      "def mol_weight(dna_str):\n",
      "    A_weight = 313.2\n",
      "    T_weight = 304.2\n",
      "    C_weight = 289.2\n",
      "    G_weight = 329.2\n",
      "    total_weight = -61.96\n",
      "    for char in dna_str.upper():\n",
      "        if char == 'A':\n",
      "            total_weight += A_weight\n",
      "        elif char == 'T':\n",
      "            total_weight += T_weight\n",
      "        elif char == 'C':\n",
      "            total_weight += C_weight\n",
      "        elif char == 'G':\n",
      "            total_weight += G_weight\n",
      "    return total_weight"
     ],
     "language": "python",
     "metadata": {},
     "outputs": [],
     "prompt_number": 25
    },
    {
     "cell_type": "code",
     "collapsed": false,
     "input": [
      "def mol_weight(dna_str):\n",
      "    total_weight = -61.96\n",
      "    A_weight = 313.2\n",
      "    T_weight = 304.2\n",
      "    C_weight = 289.2\n",
      "    G_weight = 329.2\n",
      "    dna_str_upper = dna_str.upper()\n",
      "    total_weight += dna_str_upper.count('A') * A_weight\n",
      "    total_weight += dna_str_upper.count('T') * T_weight\n",
      "    total_weight += dna_str_upper.count('C') * C_weight\n",
      "    total_weight += dna_str_upper.count('G') * G_weight\n",
      "    return total_weight"
     ],
     "language": "python",
     "metadata": {},
     "outputs": [],
     "prompt_number": 29
    },
    {
     "cell_type": "code",
     "collapsed": false,
     "input": [
      "python_test.run_test(3, mol_weight)"
     ],
     "language": "python",
     "metadata": {},
     "outputs": [
      {
       "output_type": "stream",
       "stream": "stdout",
       "text": [
        "Correct\n"
       ]
      }
     ],
     "prompt_number": 28
    },
    {
     "cell_type": "markdown",
     "metadata": {},
     "source": [
      "**(4)** Write a function `longest_line(filename)` that returns the longest line in the file named by `filename`. E.g. if a file `myfile.txt` contained the following lines:\n",
      "\n",
      "        *****************\n",
      "        ***********\n",
      "        ***\n",
      "        ************************\n",
      "\n",
      "then\n",
      "\n",
      "        line = longest_line('myfile.txt')\n",
      "        print line\n",
      "\n",
      "would print\n",
      "\n",
      "        ************************\n",
      "\n",
      "You can test your function using the file `sample.txt`.\n",
      "        \n",
      "**Marks:** 5     "
     ]
    },
    {
     "cell_type": "code",
     "collapsed": false,
     "input": [
      "import sys\n",
      "\n",
      "def longest_line(filename):\n",
      "    try:\n",
      "        input_file = open(filename)\n",
      "    except IOError as e:\n",
      "        print >>sys.stderr, \"Failed to open {}: {}\".format(filename, \n",
      "                                                           e.strerror)\n",
      "        return None\n",
      "    else:\n",
      "        longest_line = ''\n",
      "        longest_line_length = 0\n",
      "        for line in input_file:\n",
      "            line_length = len(line)\n",
      "            if line_length > longest_line_length:\n",
      "                longest_line_length = line_length\n",
      "                longest_line = line\n",
      "        return longest_line"
     ],
     "language": "python",
     "metadata": {},
     "outputs": [],
     "prompt_number": 30
    },
    {
     "cell_type": "code",
     "collapsed": false,
     "input": [
      "import sys\n",
      "\n",
      "def longest_line(filename):\n",
      "    try:\n",
      "        input_file = open(filename)\n",
      "    except IOError as e:\n",
      "        print >>sys.stderr, \"Failed to open {}: {}\".format(filename, \n",
      "                                                           e.strerror)\n",
      "        return None\n",
      "    else:\n",
      "        line_lengths = []\n",
      "        for line in input_file:\n",
      "            line_lengths.append(len(line))\n",
      "        longest_line_length = max(line_lengths)\n",
      "        input_file.seek(0)\n",
      "        for line in input_file:\n",
      "            if len(line) == longest_line_length:\n",
      "                return line"
     ],
     "language": "python",
     "metadata": {},
     "outputs": [],
     "prompt_number": 32
    },
    {
     "cell_type": "code",
     "collapsed": false,
     "input": [
      "import sys\n",
      "\n",
      "def longest_line(filename):\n",
      "    try:\n",
      "        input_file = open(filename)\n",
      "    except IOError as e:\n",
      "        print >>sys.stderr, \"Failed to open {}: {}\".format(filename, \n",
      "                                                           e.strerror)\n",
      "        return None\n",
      "    else:\n",
      "        line_lengths = []\n",
      "        lines = []\n",
      "        for line in input_file:\n",
      "            line_lengths.append(len(line))\n",
      "            lines.append(line)\n",
      "        longest_line_length = max(line_lengths)\n",
      "        longest_line_position = line_lengths.index(longest_line_length)\n",
      "        return lines[longest_line_position]"
     ],
     "language": "python",
     "metadata": {},
     "outputs": [],
     "prompt_number": 34
    },
    {
     "cell_type": "code",
     "collapsed": false,
     "input": [
      "import sys\n",
      "\n",
      "def longest_line(filename):\n",
      "    try:\n",
      "        input_file = open(filename)\n",
      "    except IOError as e:\n",
      "        print >>sys.stderr, \"Failed to open {}: {}\".format(filename, \n",
      "                                                           e.strerror)\n",
      "        return None\n",
      "    else:\n",
      "        line_dict = {}\n",
      "        for line in input_file:\n",
      "            line_dict[line] = len(line)\n",
      "        longest_line_length = max(line_dict.values())\n",
      "        for line, length in line_dict.iteritems():\n",
      "            if length == longest_line_length:\n",
      "                return line"
     ],
     "language": "python",
     "metadata": {},
     "outputs": [],
     "prompt_number": 51
    },
    {
     "cell_type": "code",
     "collapsed": false,
     "input": [
      "python_test.run_test(4, longest_line)"
     ],
     "language": "python",
     "metadata": {},
     "outputs": [
      {
       "output_type": "stream",
       "stream": "stdout",
       "text": [
        "Correct\n"
       ]
      }
     ],
     "prompt_number": 52
    },
    {
     "cell_type": "markdown",
     "metadata": {},
     "source": [
      "**(5)** Consider a file that contains protein names, with one name per line. Here is a sample of the file:\n",
      "\n",
      "        COL1A1\n",
      "        MED12\n",
      "        IREB2\n",
      "        GDF9\n",
      "        RXRG\n",
      "        CBFB\n",
      "        IREB2\n",
      "        TUBB\n",
      "\n",
      "\n",
      "Write a function `deduplicate(filename)` that reads in a file like this (one is provided as `names.txt`) and returns a unique list of names. If `names.txt` contained only the above example, then:\n",
      "\n",
      "        unique_names = deduplicate('names.txt')\n",
      "        print unique_names\n",
      "\n",
      "should print:\n",
      "\n",
      "        ['CBFB', 'COL1A1', 'GDF9', 'IREB2', 'MED12', 'RXRG', 'TUBB']\n",
      "        \n",
      "(The order of the names isn't important)\n",
      "\n",
      "**Marks:** 6"
     ]
    },
    {
     "cell_type": "code",
     "collapsed": false,
     "input": [
      "import sys\n",
      "\n",
      "def deduplicate(filename):\n",
      "    try:\n",
      "        input_file = open(filename)\n",
      "    except IOError as e:\n",
      "        print >>sys.stderr, \"Failed to open {}: {}\".format(filename,\n",
      "                                                           e.strerror)\n",
      "        return None\n",
      "    else:\n",
      "        names = []\n",
      "        for line in input_file:\n",
      "            new_name = line.strip()\n",
      "            if new_name != '' and new_name not in names:\n",
      "                names.append(new_name)\n",
      "        return names"
     ],
     "language": "python",
     "metadata": {},
     "outputs": [],
     "prompt_number": 36
    },
    {
     "cell_type": "code",
     "collapsed": false,
     "input": [
      "import sys\n",
      "\n",
      "def deduplicate(filename):\n",
      "    try:\n",
      "        input_file = open(filename)\n",
      "    except IOError as e:\n",
      "        print >>sys.stderr, \"Failed to open {}: {}\".format(filename,\n",
      "                                                           e.strerror)\n",
      "        return None\n",
      "    else:\n",
      "        names = dict()\n",
      "        for line in input_file:\n",
      "            new_name = line.strip()\n",
      "            if new_name != '':\n",
      "                names[new_name] = True\n",
      "        return names.keys()"
     ],
     "language": "python",
     "metadata": {},
     "outputs": [],
     "prompt_number": 42
    },
    {
     "cell_type": "code",
     "collapsed": false,
     "input": [
      "import sys\n",
      "\n",
      "def deduplicate(filename):\n",
      "    try:\n",
      "        input_file = open(filename)\n",
      "    except IOError as e:\n",
      "        print >>sys.stderr, \"Failed to open {}: {}\".format(filename,\n",
      "                                                           e.strerror)\n",
      "        return None\n",
      "    else:\n",
      "        names = set()\n",
      "        for line in input_file:\n",
      "            new_name = line.strip()\n",
      "            if new_name != '':\n",
      "                names.add(new_name)\n",
      "    return list(names)"
     ],
     "language": "python",
     "metadata": {},
     "outputs": [],
     "prompt_number": 46
    },
    {
     "cell_type": "code",
     "collapsed": false,
     "input": [
      "print deduplicate('names.txt')"
     ],
     "language": "python",
     "metadata": {},
     "outputs": [
      {
       "output_type": "stream",
       "stream": "stdout",
       "text": [
        "['GDF9', 'SLBP', 'SHC1', 'RXRG', 'CDK2', 'TUBB', 'GAB1', 'AGT', 'MED12', 'CBFB', 'FRS3', 'COL1A1', 'COL5A1', 'SP3', 'LCK', 'PRKCZ', 'IREB2']\n"
       ]
      }
     ],
     "prompt_number": 48
    },
    {
     "cell_type": "code",
     "collapsed": false,
     "input": [
      "python_test.run_test(5, deduplicate)"
     ],
     "language": "python",
     "metadata": {},
     "outputs": [
      {
       "output_type": "stream",
       "stream": "stdout",
       "text": [
        "Correct\n"
       ]
      }
     ],
     "prompt_number": 49
    },
    {
     "cell_type": "markdown",
     "metadata": {},
     "source": [
      "**(6)** The following code is a script that is intended to count how many times a protein name occurs in a file (you can use `names.txt` as the sample file). The script (with bugs) can be found in `bin/count_name.py` and is executable. The code has errors. Correct them:\n",
      "\n",
      "````\n",
      "#!/usr/bin/eenv python\n",
      "\n",
      "import sys\n",
      "\n",
      "def count_name(filename, protein_name):\n",
      "    input_file = open(sys.argv[1])\n",
      "    count = 0\n",
      "    for line in input_file:\n",
      "        if line.rstrip() == protein_name:\n",
      "            count += 1\n",
      "    return count\n",
      "\n",
      "if len(sys.argv) != 3:\n",
      "    sys.exit(\"Usage: count_name.py <protein names file> <protein name>\")\n",
      "\n",
      "filename = sys.argv[0]\n",
      "protein_name = sys.argv[1]\n",
      "name_count = count_name(filename, protein_name)\n",
      "print protein_name, name_count\n",
      "````\n",
      "\n",
      "**Marks:** 4\n"
     ]
    },
    {
     "cell_type": "code",
     "collapsed": false,
     "input": [
      "python_test.run_test(6, None)"
     ],
     "language": "python",
     "metadata": {},
     "outputs": [
      {
       "output_type": "stream",
       "stream": "stdout",
       "text": [
        "Correct\n"
       ]
      }
     ],
     "prompt_number": 50
    },
    {
     "cell_type": "code",
     "collapsed": false,
     "input": [
      "print \"Total marks available:\", python_test.max_marks()"
     ],
     "language": "python",
     "metadata": {},
     "outputs": [
      {
       "output_type": "stream",
       "stream": "stdout",
       "text": [
        "Total marks available: 25\n"
       ]
      }
     ],
     "prompt_number": 2
    },
    {
     "cell_type": "code",
     "collapsed": false,
     "input": [],
     "language": "python",
     "metadata": {},
     "outputs": []
    }
   ],
   "metadata": {}
  }
 ]
}