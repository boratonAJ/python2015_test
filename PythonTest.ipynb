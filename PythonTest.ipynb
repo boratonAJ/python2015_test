{
 "metadata": {
  "name": "",
  "signature": "sha256:c57f80b5e22843f3f5f2cf24c75cd12f73eee96545261472ca96c36686d761de"
 },
 "nbformat": 3,
 "nbformat_minor": 0,
 "worksheets": [
  {
   "cells": [
    {
     "cell_type": "code",
     "collapsed": false,
     "input": [
      "#!/usr/bin/env python\n",
      "import sys\n",
      "import os\n",
      "import os.path\n",
      "sys.path.append(os.path.join(os.getcwd(), 'lib'))\n",
      "from test import python_test"
     ],
     "language": "python",
     "metadata": {},
     "outputs": [],
     "prompt_number": 149
    },
    {
     "cell_type": "code",
     "collapsed": false,
     "input": [
      "python_test.register('Ajayi Olabode', 'ajayi@sanbi.ac.za')"
     ],
     "language": "python",
     "metadata": {},
     "outputs": [
      {
       "metadata": {},
       "output_type": "pyout",
       "prompt_number": 150,
       "text": [
        "'Thank you Ajayi Olabode'"
       ]
      }
     ],
     "prompt_number": 150
    },
    {
     "cell_type": "code",
     "collapsed": false,
     "input": [
      "#!/usr/bin/env python\n",
      "import sys\n",
      "import os\n",
      "\n",
      "def multiply(x,y):\n",
      "        result = x * y\n",
      "        return result\n",
      "\n",
      "result = multiply(5, 10)\n",
      "print result\n"
     ],
     "language": "python",
     "metadata": {},
     "outputs": [
      {
       "output_type": "stream",
       "stream": "stdout",
       "text": [
        "50\n"
       ]
      }
     ],
     "prompt_number": 151
    },
    {
     "cell_type": "code",
     "collapsed": false,
     "input": [
      "python_test.run_test(1, multiply)"
     ],
     "language": "python",
     "metadata": {},
     "outputs": [
      {
       "output_type": "stream",
       "stream": "stdout",
       "text": [
        "Correct\n"
       ]
      }
     ],
     "prompt_number": 152
    },
    {
     "cell_type": "code",
     "collapsed": false,
     "input": [
      "def product_of_list(thelist):\n",
      "        list = thelist\n",
      "        sum = 1\n",
      "        for i in thelist:\n",
      "                sum *=i\n",
      "        return sum\n",
      "    \n",
      "def product_of(thelist):\n",
      "        result = product_of_list(thelist)\n",
      "        return result\n",
      "\n",
      "\n",
      "mylist = [1,2,3,4]\n",
      "result = product_of(mylist)\n",
      "print result    \n"
     ],
     "language": "python",
     "metadata": {},
     "outputs": [
      {
       "output_type": "stream",
       "stream": "stdout",
       "text": [
        "24\n"
       ]
      }
     ],
     "prompt_number": 158
    },
    {
     "cell_type": "code",
     "collapsed": false,
     "input": [
      "python_test.run_test(2, product_of)"
     ],
     "language": "python",
     "metadata": {},
     "outputs": [
      {
       "output_type": "stream",
       "stream": "stdout",
       "text": [
        "Correct\n"
       ]
      }
     ],
     "prompt_number": 159
    },
    {
     "cell_type": "code",
     "collapsed": false,
     "input": [
      "import sys\n",
      "import os\n",
      "\n",
      "\n",
      "dic = {'Adenine':313.2,'Thymine':304.2,'Cytosine':289.2,'Guanine':329.2}\n",
      "\n",
      "def mol_weight(dic):\n",
      "    newlist = []\n",
      "    dna_str = 'GATACCA'\n",
      "    for k,v in dic.items():\n",
      "        if k == \"Adenine\":\n",
      "            A = v\n",
      "            newlist.append(A)\n",
      "        elif k == \"Thymine\":\n",
      "            T = v\n",
      "            newlist.append(T)\n",
      "        elif k == \"Cytosine\":\n",
      "            C = v\n",
      "            newlist.append(C)\n",
      "        elif k == \"Guanine\":\n",
      "            G = v\n",
      "            newlist.append(G)\n",
      "    weight_of_strand = single_stranded_DNA(dna_str)\n",
      "    return weight_of_strand\n",
      "\n",
      "# A function mol_weight(dna_str) that computes the molecular weight of strand of DNA\n",
      "\n",
      "def single_stranded_DNA(dna_str):\n",
      "    \n",
      "    cnt_A = cnt_C = cnt_T = cnt_G = 0\n",
      "    comp_DNA_A = comp_DNA_T = comp_DNA_C = comp_DNA_G = 0\n",
      "    for char in dna_str:\n",
      "        if char == 'A':\n",
      "            cnt_A += 1\n",
      "            comp_DNA_A = (A * cnt_A)\n",
      "        elif char == 'T':\n",
      "            cnt_T += 1\n",
      "            comp_DNA_T = (T * cnt_T)\n",
      "        elif char == 'C':\n",
      "            cnt_C += 1\n",
      "            comp_DNA_C = (C * cnt_C)\n",
      "        elif char == 'G':\n",
      "            cnt_G += 1\n",
      "            comp_DNA_G = (G * cnt_G)\n",
      "        comp_DNA = comp_DNA_A + comp_DNA_T + comp_DNA_C + comp_DNA_G - 61.96\n",
      "    return comp_DNA \n",
      "\n",
      "weight = mol_weight(dic)\n",
      "print weight"
     ],
     "language": "python",
     "metadata": {},
     "outputs": [
      {
       "output_type": "stream",
       "stream": "stdout",
       "text": [
        "2089.44\n"
       ]
      }
     ],
     "prompt_number": 291
    },
    {
     "cell_type": "code",
     "collapsed": false,
     "input": [
      "python_test.run_test(3, mol_weight)"
     ],
     "language": "python",
     "metadata": {},
     "outputs": [
      {
       "ename": "AttributeError",
       "evalue": "'str' object has no attribute 'items'",
       "output_type": "pyerr",
       "traceback": [
        "\u001b[1;31m---------------------------------------------------------------------------\u001b[0m\n\u001b[1;31mAttributeError\u001b[0m                            Traceback (most recent call last)",
        "\u001b[1;32m<ipython-input-225-12c293d01fb2>\u001b[0m in \u001b[0;36m<module>\u001b[1;34m()\u001b[0m\n\u001b[1;32m----> 1\u001b[1;33m \u001b[0mpython_test\u001b[0m\u001b[1;33m.\u001b[0m\u001b[0mrun_test\u001b[0m\u001b[1;33m(\u001b[0m\u001b[1;36m3\u001b[0m\u001b[1;33m,\u001b[0m \u001b[0mmol_weight\u001b[0m\u001b[1;33m)\u001b[0m\u001b[1;33m\u001b[0m\u001b[0m\n\u001b[0m",
        "\u001b[1;32m/home/sanbi/Dropbox/python/coding/Python/PythonTest/python2015_test/lib/test.pyc\u001b[0m in \u001b[0;36mrun_test\u001b[1;34m(self, question, func)\u001b[0m\n\u001b[0;32m     31\u001b[0m         \u001b[1;32melse\u001b[0m\u001b[1;33m:\u001b[0m\u001b[1;33m\u001b[0m\u001b[0m\n\u001b[0;32m     32\u001b[0m             \u001b[1;32mtry\u001b[0m\u001b[1;33m:\u001b[0m\u001b[1;33m\u001b[0m\u001b[0m\n\u001b[1;32m---> 33\u001b[1;33m                 \u001b[0mself\u001b[0m\u001b[1;33m.\u001b[0m\u001b[0mtests\u001b[0m\u001b[1;33m[\u001b[0m\u001b[0mquestion\u001b[0m\u001b[1;33m]\u001b[0m\u001b[1;33m(\u001b[0m\u001b[0mfunc\u001b[0m\u001b[1;33m)\u001b[0m\u001b[1;33m\u001b[0m\u001b[0m\n\u001b[0m\u001b[0;32m     34\u001b[0m                 \u001b[0mmarks\u001b[0m \u001b[1;33m=\u001b[0m \u001b[0mself\u001b[0m\u001b[1;33m.\u001b[0m\u001b[0mmarks_for_questions\u001b[0m\u001b[1;33m[\u001b[0m\u001b[0mquestion\u001b[0m\u001b[1;33m]\u001b[0m\u001b[1;33m\u001b[0m\u001b[0m\n\u001b[0;32m     35\u001b[0m             \u001b[1;32mexcept\u001b[0m \u001b[0mAssertionError\u001b[0m\u001b[1;33m:\u001b[0m\u001b[1;33m\u001b[0m\u001b[0m\n",
        "\u001b[1;32m/home/sanbi/Dropbox/python/coding/Python/PythonTest/python2015_test/lib/test.pyc\u001b[0m in \u001b[0;36mtest_mol_weight\u001b[1;34m(func)\u001b[0m\n\u001b[0;32m     66\u001b[0m \u001b[1;32mdef\u001b[0m \u001b[0mtest_mol_weight\u001b[0m\u001b[1;33m(\u001b[0m\u001b[0mfunc\u001b[0m\u001b[1;33m)\u001b[0m\u001b[1;33m:\u001b[0m\u001b[1;33m\u001b[0m\u001b[0m\n\u001b[0;32m     67\u001b[0m     \u001b[0mmol_weight\u001b[0m \u001b[1;33m=\u001b[0m \u001b[0mfunc\u001b[0m\u001b[1;33m\u001b[0m\u001b[0m\n\u001b[1;32m---> 68\u001b[1;33m     \u001b[1;32massert\u001b[0m \u001b[0mint\u001b[0m\u001b[1;33m(\u001b[0m\u001b[0mmol_weight\u001b[0m\u001b[1;33m(\u001b[0m\u001b[1;34m'GATACCA'\u001b[0m\u001b[1;33m)\u001b[0m\u001b[1;33m)\u001b[0m \u001b[1;33m==\u001b[0m \u001b[1;36m2089\u001b[0m\u001b[1;33m\u001b[0m\u001b[0m\n\u001b[0m\u001b[0;32m     69\u001b[0m     \u001b[1;32massert\u001b[0m \u001b[0mint\u001b[0m\u001b[1;33m(\u001b[0m\u001b[0mmol_weight\u001b[0m\u001b[1;33m(\u001b[0m\u001b[1;34m'C'\u001b[0m\u001b[1;33m)\u001b[0m\u001b[1;33m)\u001b[0m \u001b[1;33m==\u001b[0m \u001b[1;36m227\u001b[0m\u001b[1;33m\u001b[0m\u001b[0m\n\u001b[0;32m     70\u001b[0m     \u001b[1;32massert\u001b[0m \u001b[0mint\u001b[0m\u001b[1;33m(\u001b[0m\u001b[0mmol_weight\u001b[0m\u001b[1;33m(\u001b[0m\u001b[1;34m''\u001b[0m\u001b[1;33m)\u001b[0m\u001b[1;33m)\u001b[0m \u001b[1;33m==\u001b[0m \u001b[1;33m-\u001b[0m\u001b[1;36m61\u001b[0m\u001b[1;33m\u001b[0m\u001b[0m\n",
        "\u001b[1;32m<ipython-input-224-9c8658f78944>\u001b[0m in \u001b[0;36mmol_weight\u001b[1;34m(dic)\u001b[0m\n\u001b[0;32m      8\u001b[0m     \u001b[0mnewlist\u001b[0m \u001b[1;33m=\u001b[0m \u001b[1;33m[\u001b[0m\u001b[1;33m]\u001b[0m\u001b[1;33m\u001b[0m\u001b[0m\n\u001b[0;32m      9\u001b[0m     \u001b[0mdna_str\u001b[0m \u001b[1;33m=\u001b[0m \u001b[1;34m' '\u001b[0m\u001b[1;33m\u001b[0m\u001b[0m\n\u001b[1;32m---> 10\u001b[1;33m     \u001b[1;32mfor\u001b[0m \u001b[0mk\u001b[0m\u001b[1;33m,\u001b[0m\u001b[0mv\u001b[0m \u001b[1;32min\u001b[0m \u001b[0mdic\u001b[0m\u001b[1;33m.\u001b[0m\u001b[0mitems\u001b[0m\u001b[1;33m(\u001b[0m\u001b[1;33m)\u001b[0m\u001b[1;33m:\u001b[0m\u001b[1;33m\u001b[0m\u001b[0m\n\u001b[0m\u001b[0;32m     11\u001b[0m         \u001b[1;32mif\u001b[0m \u001b[0mk\u001b[0m \u001b[1;33m==\u001b[0m \u001b[1;34m\"Adenine\"\u001b[0m\u001b[1;33m:\u001b[0m\u001b[1;33m\u001b[0m\u001b[0m\n\u001b[0;32m     12\u001b[0m             \u001b[0mA\u001b[0m \u001b[1;33m=\u001b[0m \u001b[0mv\u001b[0m\u001b[1;33m\u001b[0m\u001b[0m\n",
        "\u001b[1;31mAttributeError\u001b[0m: 'str' object has no attribute 'items'"
       ]
      }
     ],
     "prompt_number": 225
    },
    {
     "cell_type": "code",
     "collapsed": false,
     "input": [
      "#!/usr/bin/env python\n",
      "import sys\n",
      "import os.path\n",
      "\n",
      "filename = '/home/sanbi/Dropbox/python/coding/Python/PythonTest/python2015_test/sample.txt'\n",
      "def longest_line(filename):\n",
      "    input_file = open(filename, \"r\")\n",
      "    newline = cnt_line = []\n",
      "    max_length = lines = chars = cnt = count = 0\n",
      "    max_line = ''\n",
      "    input_file.seek(0) # get back to the top\n",
      "    for line in input_file.readlines(): # iterate over all the lines present in the file.\n",
      "        lines +=1\n",
      "        newline.append(lines)\n",
      "        cnt_line = len(line)\n",
      "        if len(line) > max_length:\n",
      "            #If line_length is greater than maxlength value the new value is line_length\n",
      "            max_length = len(line)\n",
      "            max_line = line\n",
      "    return max_line\n",
      "    input_file.close()\n",
      "line = longest_line(filename)\n",
      "print line"
     ],
     "language": "python",
     "metadata": {},
     "outputs": [
      {
       "output_type": "stream",
       "stream": "stdout",
       "text": [
        "GGCTGATTGAGCTAACCGCAAAACCGCCTTAGGCCTGATACGTTGCGTGGTGGCGTGTC\n",
        "\n"
       ]
      }
     ],
     "prompt_number": 146
    },
    {
     "cell_type": "code",
     "collapsed": false,
     "input": [
      "python_test.run_test(4, longest_line)"
     ],
     "language": "python",
     "metadata": {},
     "outputs": [
      {
       "output_type": "stream",
       "stream": "stdout",
       "text": [
        "Correct\n"
       ]
      }
     ],
     "prompt_number": 208
    },
    {
     "cell_type": "code",
     "collapsed": false,
     "input": [
      "#!/usr/bin/env python\n",
      "import sys\n",
      "import os.path\n",
      "filename = '/home/sanbi/Dropbox/python/coding/Python/PythonTest/name.txt'\n",
      "def deduplicate(filename):\n",
      "    input_file = open(filename, \"r\")\n",
      "    count = []\n",
      "    name_counts = unique_na = []\n",
      "    for line in input_file.readlines():\n",
      "        line = line.strip()\n",
      "        if line == '': \n",
      "            continue\n",
      "            print line\n",
      "        name_counts.append(line)\n",
      "        name_counts.sort()\n",
      "    holding_list=[] # a new list assignment\n",
      "    for word in name_counts:# Finding the duplication in the list append\n",
      "        if word in holding_list:# empty list\n",
      "            pass\n",
      "        else:\n",
      "            holding_list.append(word)\n",
      "    return holding_list \n",
      "    \n",
      "            \n",
      "unique_names = deduplicate(filename)\n",
      "print unique_names\n"
     ],
     "language": "python",
     "metadata": {},
     "outputs": [
      {
       "output_type": "stream",
       "stream": "stdout",
       "text": [
        "['CBFB', 'COL1A1', 'GDF9', 'IREB2', 'MED12', 'RXRG', 'TUBB']\n"
       ]
      }
     ],
     "prompt_number": 209
    },
    {
     "cell_type": "code",
     "collapsed": false,
     "input": [
      "python_test.run_test(5, deduplicate)"
     ],
     "language": "python",
     "metadata": {},
     "outputs": [
      {
       "output_type": "stream",
       "stream": "stdout",
       "text": [
        "Correct\n"
       ]
      }
     ],
     "prompt_number": 210
    },
    {
     "cell_type": "code",
     "collapsed": false,
     "input": [
      "#!/usr/bin/env python\n",
      "\n",
      "import sys\n",
      "file_path = '/home/sanbi/Dropbox/python/coding/Python/PythonTest/python2015_test/bin/names.txt'\n",
      "pro = 'IREB2'\n",
      "\n",
      "def count_name(filename, protein_name):\n",
      "    input_file = open(filename, \"r\")\n",
      "    count = 0\n",
      "    pro = str(protein_name)\n",
      "    for line in input_file:\n",
      "        if line.rstrip() == pro:\n",
      "            count += 1\n",
      "    return count\n",
      "\n",
      "if len(sys.argv) != 3:\n",
      "    sys.exit(\"Usage: count_name.py <protein names file> <protein name>\")\n",
      "\n",
      "\n",
      "filename = sys.argv[1]\n",
      "protein_name = sys.argv[2]\n",
      "name_count = count_name(filename, protein_name)\n",
      "print protein_name, name_count\n",
      "assert count_name(file_path, pro) == 3\n",
      "assert ount_name(file_path, 'RXRG') == 6"
     ],
     "language": "python",
     "metadata": {},
     "outputs": [
      {
       "ename": "SystemExit",
       "evalue": "Usage: count_name.py <protein names file> <protein name>",
       "output_type": "pyerr",
       "traceback": [
        "An exception has occurred, use %tb to see the full traceback.\n",
        "\u001b[1;31mSystemExit\u001b[0m\u001b[1;31m:\u001b[0m Usage: count_name.py <protein names file> <protein name>\n"
       ]
      },
      {
       "output_type": "stream",
       "stream": "stderr",
       "text": [
        "To exit: use 'exit', 'quit', or Ctrl-D.\n"
       ]
      }
     ],
     "prompt_number": 288
    },
    {
     "cell_type": "code",
     "collapsed": false,
     "input": [
      "python_test.run_test(6,count_name)"
     ],
     "language": "python",
     "metadata": {},
     "outputs": [
      {
       "output_type": "stream",
       "stream": "stdout",
       "text": [
        "Correct\n",
        "\n"
       ]
      }
     ],
     "prompt_number": 284
    },
    {
     "cell_type": "code",
     "collapsed": false,
     "input": [
      "print \"Total marks available:\", python_test.max_marks()"
     ],
     "language": "python",
     "metadata": {},
     "outputs": [
      {
       "output_type": "stream",
       "stream": "stdout",
       "text": [
        "Total marks available: 25\n"
       ]
      }
     ],
     "prompt_number": 285
    },
    {
     "cell_type": "code",
     "collapsed": false,
     "input": [],
     "language": "python",
     "metadata": {},
     "outputs": []
    }
   ],
   "metadata": {}
  }
 ]
}